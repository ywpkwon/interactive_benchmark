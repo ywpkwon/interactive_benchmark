{
 "cells": [
  {
   "cell_type": "markdown",
   "metadata": {
    "deletable": true,
    "editable": true
   },
   "source": [
    "## Prepare eval set files\n",
    "\n",
    "Note! This copies a given testing list of images. This is only the one-time process only when a `test` set is determined. \n",
    "\n",
    "Note!! We assume image size is 1920 x 720. As of now, we have two types of resolution: 1920 x 720 and 1920 x 960. In the longer case, we crop bottom."
   ]
  },
  {
   "cell_type": "code",
   "execution_count": null,
   "metadata": {
    "collapsed": true,
    "deletable": true,
    "editable": true
   },
   "outputs": [],
   "source": [
    "import os\n",
    "import shutil\n",
    "import scipy.misc\n",
    "from tqdm import tqdm\n",
    "\n",
    "IMAGE_SRC_DIR = '/mnt/data_export/images'\n",
    "EVAL_IMAGE_DIR = '/media/phantom/World/phantom_benchmark/images'\n",
    "TEST_SET = '/home/phantom/projects/vision/phantomnet/datasets/phantom/ImageSets/test.txt'\n",
    "\n",
    "print('Building file locator..')\n",
    "file_locator = {}\n",
    "for root, dirs, files in os.walk(IMAGE_SRC_DIR):\n",
    "    for file in files:\n",
    "        if file[0] == '.': continue\n",
    "        file_locator[file] = os.path.join(root, file)\n",
    "\n",
    "        \n",
    "with open(TEST_SET) as f:\n",
    "    content = f.readlines()\n",
    "    content = [x.strip() for x in content]\n",
    "    \n",
    "for f in tqdm(content):\n",
    "    path = file_locator.get(f + '.png', None)\n",
    "    \n",
    "    ## resolution check!\n",
    "    if path is not None: img = scipy.misc.imread(path)\n",
    "    assert(img.shape[1] == 1280)\n",
    "    assert(img.shape[0] in [720, 960])\n",
    "    img = img[:720, :, :]\n",
    "    scipy.misc.imsave(os.path.join(EVAL_IMAGE_DIR, f + '.png'), img)\n",
    "    \n",
    "#     if path is not None: shutil.copy(path, EVAL_IMAGE_DIR)\n"
   ]
  }
 ],
 "metadata": {
  "kernelspec": {
   "display_name": "tf",
   "language": "python",
   "name": "tf"
  },
  "language_info": {
   "codemirror_mode": {
    "name": "ipython",
    "version": 3
   },
   "file_extension": ".py",
   "mimetype": "text/x-python",
   "name": "python",
   "nbconvert_exporter": "python",
   "pygments_lexer": "ipython3",
   "version": "3.5.2"
  }
 },
 "nbformat": 4,
 "nbformat_minor": 2
}
