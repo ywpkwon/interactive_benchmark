{
 "cells": [
  {
   "cell_type": "code",
   "execution_count": 15,
   "metadata": {
    "collapsed": false,
    "deletable": true,
    "editable": true
   },
   "outputs": [
    {
     "name": "stderr",
     "output_type": "stream",
     "text": [
      "100%|██████████| 64258/64258 [06:30<00:00, 164.58it/s]"
     ]
    },
    {
     "name": "stdout",
     "output_type": "stream",
     "text": [
      "{'bicyclist': 1130, 'sedan-occluded': 199575, 'caravan': 179, 'suv': 63482, 'free_space': 0, 'bus': 749, 'motorcyclist': 1590, 'trailer': 588, 'motorcycle': 2218, 'pedestrian': 26249, 'lane-dotted': 0, 'truck-occluded': 42663, 'trailer-occluded': 922, 'truck': 16877, 'suv-occluded': 101201, 'sedan': 115428, 'bicycle': 1921, 'bus-occluded': 4361, 'lane-dashed': 0, 'lane-solid': 0, 'none': 0, 'caravan-occluded': 566}\n"
     ]
    },
    {
     "name": "stderr",
     "output_type": "stream",
     "text": [
      "\n"
     ]
    }
   ],
   "source": [
    "import os\n",
    "import glob\n",
    "import json\n",
    "from tqdm import tqdm\n",
    "\n",
    "annotation_path = '/home/phantom/projects/vision/phantomnet/datasets/phantom/Annotations'\n",
    "annotations = glob.glob(os.path.join(annotation_path, '*.txt'))\n",
    "\n",
    "# Here we adjust labels\n",
    "label_map = {\n",
    "    'none': (0, 'background'),\n",
    "    'sedan': (1, 'vehicle'),\n",
    "    'sedan-occluded': (1, 'vehicle'),\n",
    "    'suv': (1, 'vehicle'),\n",
    "    'suv-occluded': (1, 'vehicle'),\n",
    "    'truck': (1, 'vehicle'),\n",
    "    'truck-occluded': (1, 'vehicle'),\n",
    "    'caravan': (1, 'vehicle'),\n",
    "    'caravan-occluded': (1, 'vehicle'),\n",
    "    'trailer': (1, 'vehicle'),\n",
    "    'trailer-occluded': (1, 'vehicle'),\n",
    "    'bus': (1, 'vehicle'),\n",
    "    'bus-occluded': (1, 'vehicle'),\n",
    "    'lane-dashed': (4, 'lane'),\n",
    "    'lane-solid': (4, 'lane'),\n",
    "    'lane-dotted': (4, 'lane'),\n",
    "    'pedestrian': (3, 'person'),\n",
    "    'free_space': (5, 'road'),\n",
    "    'bicyclist': (2, 'cyclist'),\n",
    "    'bicycle': (2, 'cyclist'),\n",
    "    'motorcycle': (2, 'cyclist'),\n",
    "    'motorcyclist': (2, 'cyclist'),\n",
    "}\n",
    "\n",
    "counter = {v:0 for v in label_map}\n",
    "for f in tqdm(annotations):\n",
    "    with open(f, 'r') as jf:\n",
    "        data = json.load(jf)\n",
    "    \n",
    "    items = data.get('markResult', [])\n",
    "    for item in items:\n",
    "        if item['type'] == 'Rect':\n",
    "            label = item['extend']['currentDataKey']\n",
    "        \n",
    "            counter[label.lower()] += 1\n",
    "            \n",
    "print (counter)"
   ]
  },
  {
   "cell_type": "code",
   "execution_count": 62,
   "metadata": {
    "collapsed": false,
    "deletable": true,
    "editable": true
   },
   "outputs": [],
   "source": [
    "import matplotlib\n",
    "import matplotlib.pyplot as plt\n",
    "import seaborn as sns\n",
    "\n",
    "from matplotlib.ticker import FuncFormatter\n",
    "\n",
    "\n",
    "os.path.join(annotation_path, '*.txt')\n",
    "keys = [k for k in counter.keys() if counter[k] > 0]\n",
    "keys = sorted(keys)\n",
    "vals = [counter[v] for v in keys]\n",
    "\n",
    "plt.figure(figsize=[10, 10])\n",
    "plt.bar(range(len(keys)), vals, align='center')\n",
    "plt.xticks(range(len(keys)), keys)\n",
    "\n",
    "for x, y in enumerate(vals):\n",
    "    plt.text(x, y + 25, '%d' % y, ha='center', va= 'bottom')\n",
    "\n",
    "# plt.yscale('log')\n",
    "plt.ylabel('# of instances')\n",
    "plt.tight_layout()\n",
    "plt.show()"
   ]
  },
  {
   "cell_type": "code",
   "execution_count": 44,
   "metadata": {
    "collapsed": false,
    "deletable": true,
    "editable": true
   },
   "outputs": [],
   "source": [
    "plt.figure(figsize=[10, 10])\n",
    "plt.pie(vals, labels=keys, autopct='%1.1f%%', startangle=140)\n",
    "plt.axis('equal')\n",
    "plt.tight_layout()\n",
    "plt.show()\n"
   ]
  },
  {
   "cell_type": "code",
   "execution_count": 48,
   "metadata": {
    "collapsed": false,
    "deletable": true,
    "editable": true
   },
   "outputs": [],
   "source": []
  },
  {
   "cell_type": "code",
   "execution_count": null,
   "metadata": {
    "collapsed": true
   },
   "outputs": [],
   "source": []
  }
 ],
 "metadata": {
  "kernelspec": {
   "display_name": "tf",
   "language": "python",
   "name": "tf"
  },
  "language_info": {
   "codemirror_mode": {
    "name": "ipython",
    "version": 3
   },
   "file_extension": ".py",
   "mimetype": "text/x-python",
   "name": "python",
   "nbconvert_exporter": "python",
   "pygments_lexer": "ipython3",
   "version": "3.5.2"
  }
 },
 "nbformat": 4,
 "nbformat_minor": 2
}
