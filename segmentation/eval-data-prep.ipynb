{
 "cells": [
  {
   "cell_type": "markdown",
   "metadata": {},
   "source": [
    "# Segmetation evaluation preparation"
   ]
  },
  {
   "cell_type": "code",
   "execution_count": null,
   "metadata": {},
   "outputs": [],
   "source": [
    "import os\n",
    "import glob\n",
    "import matplotlib.pyplot as plt\n",
    "import json\n",
    "import numpy as np\n",
    "import cv2\n",
    "import math\n",
    "from scipy.interpolate import CubicSpline"
   ]
  },
  {
   "cell_type": "markdown",
   "metadata": {},
   "source": [
    "## Marker size\n",
    "\n",
    "Closer road markers should be larger than further markers. Simply assume they depends on y-values."
   ]
  },
  {
   "cell_type": "code",
   "execution_count": 63,
   "metadata": {},
   "outputs": [
    {
     "data": {
      "image/png": "[encoded data removed]",
      "text/plain": [
       "<matplotlib.figure.Figure at 0x7f13b8fcfa20>"
      ]
     },
     "metadata": {},
     "output_type": "display_data"
    }
   ],
   "source": [
    "SHIFT = 800\n",
    "MAXRADIUS = 50\n",
    "def get_marker_size(x):\n",
    "    \"\"\"\n",
    "    basically, based on sigmoid function.\n",
    "    - ALPHA controls slope\n",
    "    - at SHIFT, sigmoid value is 0.5. Therefore half size. \n",
    "    \"\"\"\n",
    "    x -= SHIFT\n",
    "    ALPHA = 0.008\n",
    "    return 1. / (1. + math.exp(- 0.008 * x)) * MAXRADIUS\n",
    "\n",
    "y = np.arange(0, 1280).astype(np.float32)\n",
    "plt.plot(y, [get_marker_size(v) for v in y])\n",
    "plt.xlabel('y value')\n",
    "plt.ylabel('marker size')\n",
    "plt.show()"
   ]
  },
  {
   "cell_type": "markdown",
   "metadata": {},
   "source": [
    "## Sample annotation"
   ]
  },
  {
   "cell_type": "code",
   "execution_count": 70,
   "metadata": {},
   "outputs": [
    {
     "data": {
      "image/png": "[encoded data removed]",
      "text/plain": [
       "<matplotlib.figure.Figure at 0x7f13b8fd8710>"
      ]
     },
     "metadata": {},
     "output_type": "display_data"
    }
   ],
   "source": [
    "def interp(xs, ys):\n",
    "    \"\"\"\n",
    "    For a given series of path, interpolate them.\n",
    "    For now, based on x-axis. This could be wrong.\n",
    "    \"\"\"\n",
    "    xs = np.array(xs)\n",
    "    ys = np.array(ys)\n",
    "    idx = np.argsort(xs)\n",
    "    xs = xs[idx]\n",
    "    ys = ys[idx]\n",
    "    xs_ = np.arange(xs[0], xs[-1])\n",
    "    cs = CubicSpline(xs, ys)\n",
    "    ys_ = cs(xs_)\n",
    "    return xs_, ys_\n",
    "\n",
    "\n",
    "def create_gt(annotation_path, sz=(1280, 1920)):\n",
    "    with open(annotation_path, 'r') as jsf:\n",
    "        data = json.load(jsf)\n",
    "\n",
    "    items = data['markResult']\n",
    "    gt = np.zeros(sz, np.uint8)\n",
    "    for item in items:\n",
    "        if item['type'] == 'Line':\n",
    "            ps = item['position']\n",
    "            xs = [p['x'] for p in ps]\n",
    "            ys = [p['y'] for p in ps]\n",
    "\n",
    "            xs_, ys_ = interp(xs, ys)\n",
    "            for x, y in zip(xs_, ys_):\n",
    "                r = get_marker_size(y)\n",
    "                cv2.circle(gt, (int(x), int(y)), int(r), 255, -1)\n",
    "    return gt\n",
    "\n",
    "annotation_path = '/home/phantom/projects/vision/phantomnet/datasets/phantom/Annotations/2017-04-28-11-49-48_test_drive_0__usb_cam_image_raw_00277.txt'\n",
    "gt = create_gt(annotation_path)\n",
    "plt.imshow(gt)\n",
    "plt.show()\n",
    "        \n",
    "        \n",
    "        \n",
    "\n",
    "        "
   ]
  },
  {
   "cell_type": "code",
   "execution_count": null,
   "metadata": {},
   "outputs": [],
   "source": [
    "image_path = ''\n",
    "annot_path = ''\n",
    "out_path = 'seg_gt'\n",
    "imgfs = glob.glob(os.path.join(img_path, '*.png'))\n",
    "\n",
    "for imgf in imgfs:\n",
    "    name = os.path.splitext(os.path.basename(imgf))[0] + '.txt'\n",
    "    annotf = os.path.join(annot_path, name)\n",
    "    img = scipy.misc.imread(imgf)\n",
    "    gt = create_gt(annotf, sz=img.shape[:2])   \n",
    "    scipy.imsave(gt, os.path.join(output_path, name + '.png'))\n"
   ]
  },
  {
   "cell_type": "markdown",
   "metadata": {},
   "source": [
    "## Eval set file copy"
   ]
  },
  {
   "cell_type": "code",
   "execution_count": null,
   "metadata": {},
   "outputs": [],
   "source": [
    "import shutil\n",
    "from tqdm import tqdm\n",
    "\n",
    "IMAGE_SRC_DIR = '/mnt/'\n",
    "EVAL_IMAGE_DIR = '...'\n",
    "\n",
    "print('Building file locator..')\n",
    "file_locator = {}\n",
    "for root, dirs, files in os.walk(IMAGE_DIR):\n",
    "    for file in files:\n",
    "        if file[0] == '.': continue\n",
    "        file_locator[file] = os.path.join(root, file)\n",
    "\n",
    "with open('test.txt', 'r') as f:\n",
    "    flist = f.readlines()\n",
    "\n",
    "for f in tqdm(flist):\n",
    "    path = file_locator.get(f, None)\n",
    "    if path is not None:\n",
    "        shutil.copy(path, EVAL_IMAGE_DIR)\n"
   ]
  },
  {
   "cell_type": "code",
   "execution_count": null,
   "metadata": {},
   "outputs": [],
   "source": []
  },
  {
   "cell_type": "code",
   "execution_count": null,
   "metadata": {},
   "outputs": [],
   "source": []
  }
 ],
 "metadata": {
  "kernelspec": {
   "display_name": "tf",
   "language": "python",
   "name": "tf"
  },
  "language_info": {
   "codemirror_mode": {
    "name": "ipython",
    "version": 3
   },
   "file_extension": ".py",
   "mimetype": "text/x-python",
   "name": "python",
   "nbconvert_exporter": "python",
   "pygments_lexer": "ipython3",
   "version": "3.5.2"
  }
 },
 "nbformat": 4,
 "nbformat_minor": 2
}
